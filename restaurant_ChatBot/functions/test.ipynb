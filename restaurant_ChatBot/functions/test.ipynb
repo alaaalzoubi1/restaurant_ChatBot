{
 "cells": [
  {
   "cell_type": "code",
   "execution_count": 16,
   "id": "initial_id",
   "metadata": {
    "collapsed": true,
    "ExecuteTime": {
     "end_time": "2024-08-21T10:15:15.517656400Z",
     "start_time": "2024-08-21T10:15:15.504307800Z"
    }
   },
   "outputs": [],
   "source": [
    "import spacy\n",
    "import pandas as pd"
   ]
  },
  {
   "cell_type": "code",
   "execution_count": 17,
   "outputs": [],
   "source": [
    "def lemmatize_text(text):\n",
    "    nlp = spacy.load(\"en_core_web_sm\")\n",
    "    doc = nlp(text)\n",
    "    lemmas = [token.lemma_ for token in doc]\n",
    "    # Join the lemmas into a single string with spaces between each lemma\n",
    "    lemmas_string = ' '.join(lemmas)\n",
    "    print(lemmas_string)\n",
    "    return lemmas_string"
   ],
   "metadata": {
    "collapsed": false,
    "ExecuteTime": {
     "end_time": "2024-08-21T10:15:15.813565200Z",
     "start_time": "2024-08-21T10:15:15.810585500Z"
    }
   },
   "id": "c64cf2a28da84693"
  },
  {
   "cell_type": "code",
   "execution_count": 18,
   "outputs": [],
   "source": [
    "df = pd.read_csv('pos.csv')"
   ],
   "metadata": {
    "collapsed": false,
    "ExecuteTime": {
     "end_time": "2024-08-21T10:15:16.271893700Z",
     "start_time": "2024-08-21T10:15:16.250169Z"
    }
   },
   "id": "81e3cbec47d8d287"
  },
  {
   "cell_type": "code",
   "execution_count": 19,
   "outputs": [],
   "source": [
    "import re\n",
    "\n",
    "\n",
    "def preprocess(text):\n",
    "    # Check if the input is a string\n",
    "    if isinstance(text, str):\n",
    "        # Remove special characters except alphanumeric and space\n",
    "        text = re.sub(r'[^\\w\\s\\']', ' ', text)\n",
    "        # Replace multiple spaces or newlines with a single space\n",
    "        text = re.sub(r'[ \\n]+', ' ', text)\n",
    "        return text.strip().lower()  # Strip leading/trailing whitespace and convert to lower case\n",
    "    else:\n",
    "        # Handle non-string inputs, here we simply return an empty string\n",
    "        return ''"
   ],
   "metadata": {
    "collapsed": false,
    "ExecuteTime": {
     "end_time": "2024-08-21T10:15:17.598279500Z",
     "start_time": "2024-08-21T10:15:17.586308700Z"
    }
   },
   "id": "73a3bfcb8a925496"
  },
  {
   "cell_type": "code",
   "execution_count": 20,
   "outputs": [],
   "source": [
    "df = df.map(preprocess)"
   ],
   "metadata": {
    "collapsed": false,
    "ExecuteTime": {
     "end_time": "2024-08-21T10:15:18.045997700Z",
     "start_time": "2024-08-21T10:15:18.040830500Z"
    }
   },
   "id": "9a19b90b299b769d"
  },
  {
   "cell_type": "code",
   "execution_count": 21,
   "outputs": [
    {
     "name": "stdout",
     "output_type": "stream",
     "text": [
      "delight to hear you love your meal at our restaurant your feedback mean a lot to we see you next time\n",
      "thank you for your wonderful review we be so happy you have a great time at our restaurant can not wait to see you again\n",
      "your review make our day we be thrilled you love our restaurant hope to welcome you back soon\n",
      "thank for the amazing review we be glad you enjoy your experience at our restaurant can not wait to serve you again\n",
      "we be overjoyed to hear you love our restaurant your feedback be greatly appreciate can not wait to host you again\n",
      "thank you for your lovely review we be thrilled you have a fantastic time at our restaurant look forward to see you soon\n",
      "your review brighten our day we be so glad you enjoy our restaurant can not wait to serve you again\n",
      "thank for the fantastic review we be delighted you love your experience at our restaurant can not wait to welcome you back\n",
      "your positive review make our week we be thrilled you have a great time at our restaurant see you soon\n"
     ]
    },
    {
     "data": {
      "text/plain": "  Thanks for the glowing review, We're thrilled you enjoyed your experience at our Restaurant. Looking forward to serving you again soon!\n0  delight to hear you love your meal at our rest...                                                                                     \n1  thank you for your wonderful review we be so h...                                                                                     \n2  your review make our day we be thrilled you lo...                                                                                     \n3  thank for the amazing review we be glad you en...                                                                                     \n4  we be overjoyed to hear you love our restauran...                                                                                     \n5  thank you for your lovely review we be thrille...                                                                                     \n6  your review brighten our day we be so glad you...                                                                                     \n7  thank for the fantastic review we be delighted...                                                                                     \n8  your positive review make our week we be thril...                                                                                     ",
      "text/html": "<div>\n<style scoped>\n    .dataframe tbody tr th:only-of-type {\n        vertical-align: middle;\n    }\n\n    .dataframe tbody tr th {\n        vertical-align: top;\n    }\n\n    .dataframe thead th {\n        text-align: right;\n    }\n</style>\n<table border=\"1\" class=\"dataframe\">\n  <thead>\n    <tr style=\"text-align: right;\">\n      <th></th>\n      <th>Thanks for the glowing review, We're thrilled you enjoyed your experience at our Restaurant. Looking forward to serving you again soon!</th>\n    </tr>\n  </thead>\n  <tbody>\n    <tr>\n      <th>0</th>\n      <td>delight to hear you love your meal at our rest...</td>\n    </tr>\n    <tr>\n      <th>1</th>\n      <td>thank you for your wonderful review we be so h...</td>\n    </tr>\n    <tr>\n      <th>2</th>\n      <td>your review make our day we be thrilled you lo...</td>\n    </tr>\n    <tr>\n      <th>3</th>\n      <td>thank for the amazing review we be glad you en...</td>\n    </tr>\n    <tr>\n      <th>4</th>\n      <td>we be overjoyed to hear you love our restauran...</td>\n    </tr>\n    <tr>\n      <th>5</th>\n      <td>thank you for your lovely review we be thrille...</td>\n    </tr>\n    <tr>\n      <th>6</th>\n      <td>your review brighten our day we be so glad you...</td>\n    </tr>\n    <tr>\n      <th>7</th>\n      <td>thank for the fantastic review we be delighted...</td>\n    </tr>\n    <tr>\n      <th>8</th>\n      <td>your positive review make our week we be thril...</td>\n    </tr>\n  </tbody>\n</table>\n</div>"
     },
     "execution_count": 21,
     "metadata": {},
     "output_type": "execute_result"
    }
   ],
   "source": [
    "df = df.map(lemmatize_text)\n",
    "df.head(10)"
   ],
   "metadata": {
    "collapsed": false,
    "ExecuteTime": {
     "end_time": "2024-08-21T10:15:23.788020500Z",
     "start_time": "2024-08-21T10:15:19.660802500Z"
    }
   },
   "id": "b42d54ca41065694"
  },
  {
   "cell_type": "code",
   "execution_count": 13,
   "outputs": [],
   "source": [],
   "metadata": {
    "collapsed": false,
    "ExecuteTime": {
     "end_time": "2024-08-21T10:14:40.610627400Z",
     "start_time": "2024-08-21T10:14:40.600890200Z"
    }
   },
   "id": "8b9ffc18274377e7"
  },
  {
   "cell_type": "code",
   "execution_count": 14,
   "outputs": [],
   "source": [],
   "metadata": {
    "collapsed": false,
    "ExecuteTime": {
     "end_time": "2024-08-21T10:14:41.703718400Z",
     "start_time": "2024-08-21T10:14:41.679112500Z"
    }
   },
   "id": "64a9fb3817d849bc"
  },
  {
   "cell_type": "code",
   "execution_count": 15,
   "outputs": [
    {
     "data": {
      "text/plain": "  Thanks for the glowing review, We're thrilled you enjoyed your experience at our Restaurant. Looking forward to serving you again soon!\n0  delighted to hear you love your meal at our re...                                                                                     \n1  thank you for your wonderful review we be so h...                                                                                     \n2  your review make our day we be thrilled you lo...                                                                                     \n3  thank for the amazing review we be glad you en...                                                                                     \n4  we be overjoyed to hear you love our restauran...                                                                                     \n5  thank you for your lovely review we be thrille...                                                                                     \n6  your review brighten our day we be so glad you...                                                                                     \n7  thank for the fantastic review we be delighted...                                                                                     \n8  your positive review make our week we be thril...                                                                                     ",
      "text/html": "<div>\n<style scoped>\n    .dataframe tbody tr th:only-of-type {\n        vertical-align: middle;\n    }\n\n    .dataframe tbody tr th {\n        vertical-align: top;\n    }\n\n    .dataframe thead th {\n        text-align: right;\n    }\n</style>\n<table border=\"1\" class=\"dataframe\">\n  <thead>\n    <tr style=\"text-align: right;\">\n      <th></th>\n      <th>Thanks for the glowing review, We're thrilled you enjoyed your experience at our Restaurant. Looking forward to serving you again soon!</th>\n    </tr>\n  </thead>\n  <tbody>\n    <tr>\n      <th>0</th>\n      <td>delighted to hear you love your meal at our re...</td>\n    </tr>\n    <tr>\n      <th>1</th>\n      <td>thank you for your wonderful review we be so h...</td>\n    </tr>\n    <tr>\n      <th>2</th>\n      <td>your review make our day we be thrilled you lo...</td>\n    </tr>\n    <tr>\n      <th>3</th>\n      <td>thank for the amazing review we be glad you en...</td>\n    </tr>\n    <tr>\n      <th>4</th>\n      <td>we be overjoyed to hear you love our restauran...</td>\n    </tr>\n    <tr>\n      <th>5</th>\n      <td>thank you for your lovely review we be thrille...</td>\n    </tr>\n    <tr>\n      <th>6</th>\n      <td>your review brighten our day we be so glad you...</td>\n    </tr>\n    <tr>\n      <th>7</th>\n      <td>thank for the fantastic review we be delighted...</td>\n    </tr>\n    <tr>\n      <th>8</th>\n      <td>your positive review make our week we be thril...</td>\n    </tr>\n  </tbody>\n</table>\n</div>"
     },
     "execution_count": 15,
     "metadata": {},
     "output_type": "execute_result"
    }
   ],
   "source": [
    "df.head(10)"
   ],
   "metadata": {
    "collapsed": false,
    "ExecuteTime": {
     "end_time": "2024-08-21T10:14:42.229661600Z",
     "start_time": "2024-08-21T10:14:42.219290700Z"
    }
   },
   "id": "859b4ee535e03d1b"
  },
  {
   "cell_type": "code",
   "execution_count": 22,
   "outputs": [
    {
     "name": "stdout",
     "output_type": "stream",
     "text": [
      "Arabic to English: Welcome to our restaurant\n",
      "English to Arabic: مرحباً بكم في مطعمنا\n"
     ]
    }
   ],
   "source": [
    "from deep_translator import GoogleTranslator\n",
    "\n",
    "def translate_ar_to_en(arabic_text):\n",
    "    translated = GoogleTranslator(source='ar', target='en').translate(arabic_text)\n",
    "    return translated\n",
    "\n",
    "def translate_en_to_ar(english_text):\n",
    "    translated = GoogleTranslator(source='en', target='ar').translate(english_text)\n",
    "    return translated\n",
    "\n",
    "# Example usage\n",
    "arabic_text = \"مرحبا بك في مطعمنا\"\n",
    "english_translation = translate_ar_to_en(arabic_text)\n",
    "print(f\"Arabic to English: {english_translation}\")\n",
    "\n",
    "english_text = \"Welcome to our restaurant\"\n",
    "arabic_translation = translate_en_to_ar(english_text)\n",
    "print(f\"English to Arabic: {arabic_translation}\")\n"
   ],
   "metadata": {
    "collapsed": false,
    "ExecuteTime": {
     "end_time": "2024-08-21T11:20:08.541133400Z",
     "start_time": "2024-08-21T11:20:07.260253500Z"
    }
   },
   "id": "51276602a4c30f77"
  },
  {
   "cell_type": "code",
   "execution_count": 29,
   "outputs": [
    {
     "name": "stdout",
     "output_type": "stream",
     "text": [
      "ar\n"
     ]
    }
   ],
   "source": [
    "from langdetect import detect\n",
    "\n",
    "def detect_language(text):\n",
    "    try:\n",
    "        return detect(text)\n",
    "    except:\n",
    "        return \"Unknown\"\n",
    "\n",
    "# Example usage\n",
    "message = \"\"\n",
    "print(detect_language(message))\n"
   ],
   "metadata": {
    "collapsed": false,
    "ExecuteTime": {
     "end_time": "2024-08-21T11:33:39.289540800Z",
     "start_time": "2024-08-21T11:33:39.277558400Z"
    }
   },
   "id": "4b008daa39a29f9f"
  },
  {
   "cell_type": "code",
   "execution_count": 6,
   "outputs": [
    {
     "name": "stdout",
     "output_type": "stream",
     "text": [
      "['pepsi can']\n"
     ]
    }
   ],
   "source": [
    "import pandas as pd\n",
    "import re\n",
    "from fuzzywuzzy import fuzz\n",
    "\n",
    "def collect_elements_from_text(text, elements, similarity_threshold=90):\n",
    "    \"\"\"\n",
    "    Collects elements from the text that are similar to the provided elements.\n",
    "    \n",
    "    Args:\n",
    "    - text (str): The text to search through.\n",
    "    - elements (list): A list of elements to search for in the text.\n",
    "    - similarity_threshold (int): The minimum similarity score for an element to be considered a match.\n",
    "                                 Defaults to 70, meaning an element must have at least 70% similarity with the target element to be matched.\n",
    "    \n",
    "    Returns:\n",
    "    - list: A list of unique matches that are similar to the elements.\n",
    "    \"\"\"\n",
    "    if text is None or pd.isna(text):\n",
    "        return []\n",
    "\n",
    "    text = text.lower()\n",
    "    elements_lower = [element.lower() for element in elements]\n",
    "    \n",
    "    matches = []\n",
    "    for element in elements_lower:\n",
    "        # Find all occurrences of the element in the text\n",
    "        found_indices = [m.start() for m in re.finditer(element, text)]\n",
    "        \n",
    "        # For each occurrence, check if it's a good match based on similarity_threshold\n",
    "        for start_index in found_indices:\n",
    "            match = text[start_index:start_index + len(element)].lower()\n",
    "            if fuzz.ratio(match, element) >= similarity_threshold:\n",
    "                matches.append(match)\n",
    "                \n",
    "    unique_matches = list(set(matches))\n",
    "\n",
    "    return unique_matches\n",
    "\n",
    "# Example usage\n",
    "text = \"I had a Cheeseburger and a Pepsi Can today.\"\n",
    "elements = [\n",
    "    \"Cheese Burger Sandwich\",\n",
    "    \"Shawarma Chicken Sandwich\",\n",
    "    \"Shawarma Meat Sandwich\",\n",
    "    \"Falafel Sandwich\",\n",
    "    \"Crespi Chicken Sandwich\",\n",
    "    \"Zinger Chicken Sandwich\",\n",
    "    \"Pepperoni Pizza\",\n",
    "    \"Mixed Pizza\",\n",
    "    \"Hot Dog Pizza\",\n",
    "    \"Four Seasons Pizza\",\n",
    "    \"Hummus Plate\",\n",
    "    \"French Fries Plate\",\n",
    "    \"Vegetables Soup\",\n",
    "    \"Strawberry Donut\",\n",
    "    \"Vanilla Donut\",\n",
    "    \"Chocolate Donut\",\n",
    "    \"Chocolate Waffle\",\n",
    "    \"Pan Cake\",\n",
    "    \"Pepsi Can\",\n",
    "    \"Pepsi Cup\",\n",
    "    \"Pepsi Bottle\",\n",
    "    \"Fresh Strawberry Juice\"\n",
    "]\n",
    "matches = collect_elements_from_text(text, elements)\n",
    "print(matches)\n"
   ],
   "metadata": {
    "collapsed": false,
    "ExecuteTime": {
     "end_time": "2024-08-21T19:52:58.011508200Z",
     "start_time": "2024-08-21T19:52:58.002166900Z"
    }
   },
   "id": "ff9c197b8b779bfb"
  },
  {
   "cell_type": "code",
   "execution_count": 14,
   "outputs": [
    {
     "name": "stdout",
     "output_type": "stream",
     "text": [
      "['pepperoni pizza', 'cheese burger sandwich']\n"
     ]
    }
   ],
   "source": [
    "from fuzzywuzzy import fuzz\n",
    "\n",
    "def collect_elements_from_text(text):\n",
    "    # Convert elements to lowercase for case-insensitive matching\n",
    "    elements_lower = [element.lower() for element in elements]\n",
    "\n",
    "    # If the input text is None or empty, return an empty list\n",
    "    if text is None or pd.isna(text):\n",
    "        return []\n",
    "\n",
    "    # Convert the input text to lowercase\n",
    "    text = text.lower()\n",
    "\n",
    "    # Find the closest matches using fuzzy matching\n",
    "    matches = []\n",
    "    for element in elements_lower:\n",
    "        similarity = fuzz.partial_ratio(text, element)\n",
    "        if similarity >= 80:  # Adjust the threshold as needed\n",
    "            matches.append(element)\n",
    "\n",
    "    # Return unique matches\n",
    "    unique_matches = list(set(matches))\n",
    "    return unique_matches\n",
    "\n",
    "# Example usage:\n",
    "input_text = \"I need one burger sandwich and one pepperoni pizza.\"\n",
    "matching_elements = collect_elements_from_text(input_text)\n",
    "print(matching_elements)  # Output: ['cheese burger sandwich', 'falafel sandwich']\n"
   ],
   "metadata": {
    "collapsed": false,
    "ExecuteTime": {
     "end_time": "2024-08-21T20:01:28.717454Z",
     "start_time": "2024-08-21T20:01:28.710593600Z"
    }
   },
   "id": "e3059e15787a65c6"
  },
  {
   "cell_type": "code",
   "execution_count": null,
   "outputs": [],
   "source": [],
   "metadata": {
    "collapsed": false
   },
   "id": "6d7ebc9c4734701c"
  }
 ],
 "metadata": {
  "kernelspec": {
   "display_name": "Python 3",
   "language": "python",
   "name": "python3"
  },
  "language_info": {
   "codemirror_mode": {
    "name": "ipython",
    "version": 2
   },
   "file_extension": ".py",
   "mimetype": "text/x-python",
   "name": "python",
   "nbconvert_exporter": "python",
   "pygments_lexer": "ipython2",
   "version": "2.7.6"
  }
 },
 "nbformat": 4,
 "nbformat_minor": 5
}
